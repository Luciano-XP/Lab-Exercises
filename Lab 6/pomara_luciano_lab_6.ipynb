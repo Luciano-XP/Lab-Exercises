{
 "cells": [
  {
   "attachments": {},
   "cell_type": "markdown",
   "metadata": {},
   "source": [
    " - Go to https://www.binghamton-ny.gov/home\n",
    " - Using an action chain – click the “Government” tab and click “Departments” in the top-left corner – use Xpaths to do this (4pts)\n",
    " - In a try/finally clause & WebDriverWait, click on the “Personnel/Civil Service” link, then click on the “Employment” link in the left menu – use Xpaths to do this (3pts)\n",
    " - Scrape the table of Job Openings – you can use Selenium or BeautifulSoup to do this (3pts)\n",
    " - Put that data into a CSV file & read it with pandas (don’t forget to close the CSV file after you create it or it may not read in pandas!) \n",
    " - Bonus (3pts) – build a program that can click on a job hyperlink (like City Engineer) and scrape all the data on the page from “Distinguishing Features” to “Minimum Qualifications” and then go back to the job opening page\n"
   ]
  },
  {
   "cell_type": "code",
   "execution_count": 32,
   "metadata": {},
   "outputs": [],
   "source": [
    "from selenium import *\n",
    "from selenium.webdriver.common.keys import Keys\n",
    "from selenium.webdriver.common.by import By\n",
    "from selenium.webdriver.support.ui import WebDriverWait\n",
    "from selenium.webdriver.support import expected_conditions as EC\n",
    "from selenium.webdriver.common.action_chains import ActionChains\n",
    "from selenium.webdriver.chrome.service import Service\n",
    "import csv\n",
    "import pandas as pd\n",
    "\n",
    "driver = webdriver.Chrome()\n",
    "driver.get(\"https://www.binghamton-ny.gov/home\")\n",
    "\n",
    "government_menu = driver.find_element(By.XPATH, \"/html/body/div[2]/div/div[2]/div[1]/div/nav/ul/li[3]/a\")\n",
    "departments_submenu = driver.find_element(By.XPATH, \"/html/body/div[2]/div/div[2]/div[1]/div/nav/ul/li[3]/div/div/ul[1]/li/a\")\n",
    "\n",
    "departments_select = ActionChains(driver)\n",
    "departments_select.move_to_element(government_menu)\n",
    "departments_select.click(government_menu)\n",
    "departments_select.click(departments_submenu)\n",
    "departments_select.perform()\n",
    "\n",
    "\n",
    "\n",
    "try:\n",
    "    main = WebDriverWait(driver, 10).until(\n",
    "        EC.presence_of_element_located((By.XPATH, \"/html/body/div[2]/div/div[2]/div[2]/nav/ul/li/ul/li[14]/a[1]\"))\n",
    "    )\n",
    "    main.click()\n",
    "\n",
    "    sub = WebDriverWait(driver, 10).until(\n",
    "        EC.presence_of_element_located((By.XPATH, \"/html/body/div[2]/div/div[2]/div[2]/nav/ul/li/ul/li[14]/ul/li/a\"))\n",
    "    )\n",
    "    sub.click()\n",
    "\n",
    "    csv_file = open(\"job_openings.csv\", \"w\", newline='', encoding=\"utf-8\")\n",
    "    csv_writer = csv.writer(csv_file)\n",
    "    csv_writer.writerow([\"Job\", \"Type\", \"Application Deadline\", \"Salary\"])\n",
    "\n",
    "    for i in driver.find_elements(By.XPATH, \"/html/body/div[2]/div/div[2]/div[3]/div[2]/div[2]/table/tbody/tr\"):\n",
    "        job = i.find_element(By.XPATH, \"td[1]\").text\n",
    "        type = i.find_element(By.XPATH, \"td[2]\").text\n",
    "        deadline = i.find_element(By.XPATH, \"td[3]\").text\n",
    "        salary = i.find_element(By.XPATH, \"td[4]\").text\n",
    "        csv_writer.writerow([job, type, deadline, salary])\n",
    "\n",
    "finally:\n",
    "    driver.quit()\n",
    "    csv_file.close()\n",
    "    pd.read_csv(\"job_openings.csv\")\n",
    "\n"
   ]
  }
 ],
 "metadata": {
  "kernelspec": {
   "display_name": "Python 3",
   "language": "python",
   "name": "python3"
  },
  "language_info": {
   "codemirror_mode": {
    "name": "ipython",
    "version": 3
   },
   "file_extension": ".py",
   "mimetype": "text/x-python",
   "name": "python",
   "nbconvert_exporter": "python",
   "pygments_lexer": "ipython3",
   "version": "3.10.9"
  },
  "orig_nbformat": 4
 },
 "nbformat": 4,
 "nbformat_minor": 2
}
