{
 "cells": [
  {
   "attachments": {},
   "cell_type": "markdown",
   "metadata": {},
   "source": [
    "Follow the 3rd Selenium tutorial on your own. Submit the correct code with comments explaining what each element is doing (5pts)"
   ]
  },
  {
   "cell_type": "code",
   "execution_count": 6,
   "metadata": {},
   "outputs": [],
   "source": [
    "from selenium import *\n",
    "#new imports from video\n",
    "from selenium.webdriver.common.by import By\n",
    "from selenium.webdriver.common.keys import Keys\n",
    "from selenium.webdriver.support.ui import WebDriverWait\n",
    "from selenium.webdriver.support import expected_conditions as EC\n",
    "import time\n",
    "\n",
    "driver = webdriver.Chrome(\"chromedriver\")\n",
    "driver.get('https://techwithtim.net')\n",
    "\n",
    "#searches for a link with specific text and clicks on it\n",
    "link  = driver.find_element(By.LINK_TEXT, \"Python Programming\")\n",
    "link.click()\n",
    "\n",
    "#attempts to search for 10 seconds for the link text element until it is found\n",
    "#this gives it time to find the element\n",
    "try:\n",
    "    #Uses excepted_conditions to search for presence of an element, in this case link_text \n",
    "    element = WebDriverWait(driver, 10).until(\n",
    "        EC.presence_of_element_located((By.LINK_TEXT, \"Beginner Python Tutorials\"))\n",
    "    )\n",
    "    element.click() #clicks the found element\n",
    "\n",
    "    element = WebDriverWait(driver, 10).until(\n",
    "        EC.presence_of_element_located((By.ID, \"sow-button-19310003\"))\n",
    "    )\n",
    "    element.click()\n",
    "\n",
    "    driver.back() #moves back a page\n",
    "    driver.forward() #moves forward a page\n",
    "\n",
    "except:\n",
    "    driver.quit()\n",
    "\n",
    "\n",
    "\n",
    "#for a search bar, you can use \"element.clear()\" to clear it before typing (good practice)"
   ]
  },
  {
   "attachments": {},
   "cell_type": "markdown",
   "metadata": {},
   "source": [
    "Take what we learned today & try to scrape another website. (5pts) Here are three options (choose 1): \n",
    " - Use the website https://hoopshype.com/ – use Selenium to open up the page salaries > players & scrape the players salaries. Store the data in a csv file \n",
    " - __Use selenium to search https://www.wikipedia.org/ for the word “cat” and then scrape the url links to all the images on the page. Store those in a csv file. (Bonus 1pt can you add the https:// part of the url to the links so they are clickable)__\n",
    " - Go to https://data.gov/ and use selenium to click the data button - then use it to type in “climate change” into the search bar. Scrape the titles and descriptions of the results that come up. Store them in a CSV file\n"
   ]
  },
  {
   "cell_type": "code",
   "execution_count": null,
   "metadata": {},
   "outputs": [],
   "source": [
    "from selenium import *\n",
    "from selenium.webdriver.common.by import By\n",
    "from selenium.webdriver.common.keys import Keys\n",
    "from selenium.webdriver.support.ui import WebDriverWait\n",
    "from selenium.webdriver.support import expected_conditions as EC\n",
    "import time\n",
    "import csv\n",
    "\n",
    "for x in range(2): #for loop that runs the program twice because of a strange cvs writing error where it wouldn't write the links on the first run\n",
    "    csv_file = open(\"cat_images.csv\", \"w\", newline='', encoding=\"utf-8\")\n",
    "    csv_writer = csv.writer(csv_file)\n",
    "    csv_writer.writerow([\"Links\"])\n",
    "\n",
    "    driver = webdriver.Chrome(\"chromedriver\")\n",
    "\n",
    "    link = driver.get(\"https://wikipedia.com\")\n",
    "\n",
    "    search = driver.find_element(By.NAME, \"search\")\n",
    "    search.send_keys(\"cat\")\n",
    "    search.send_keys(Keys.RETURN)\n",
    "\n",
    "    try:\n",
    "        element = WebDriverWait(driver, 10).until(\n",
    "            EC.presence_of_element_located((By.TAG_NAME, \"img\"))\n",
    "        )\n",
    "\n",
    "        images = driver.find_elements(By.CLASS_NAME, \"image\")\n",
    "        for image in images:\n",
    "            link = image.get_attribute(\"href\").strip()\n",
    "            csv_writer.writerow([link])\n",
    "            print(link)\n",
    "\n",
    "    except:\n",
    "        driver.quit()\n",
    "\n",
    "    driver.quit()"
   ]
  }
 ],
 "metadata": {
  "kernelspec": {
   "display_name": "Python 3",
   "language": "python",
   "name": "python3"
  },
  "language_info": {
   "codemirror_mode": {
    "name": "ipython",
    "version": 3
   },
   "file_extension": ".py",
   "mimetype": "text/x-python",
   "name": "python",
   "nbconvert_exporter": "python",
   "pygments_lexer": "ipython3",
   "version": "3.10.9"
  },
  "orig_nbformat": 4
 },
 "nbformat": 4,
 "nbformat_minor": 2
}
